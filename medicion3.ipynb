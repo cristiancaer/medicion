{
 "cells": [
  {
   "cell_type": "code",
   "execution_count": null,
   "metadata": {},
   "outputs": [],
   "source": [
    "def modeloPolinomio(self,listZ,b):\n",
    "        y=np.array([(b[0]*zi**2+b[1]*zi+b[2]).sum() for zi in listZ])"
   ]
  },
  {
   "cell_type": "code",
   "execution_count": null,
   "metadata": {},
   "outputs": [],
   "source": [
    "import numpy as np\n",
    "import cv2\n",
    "import sys# las sisguientes dos lineas ayudan a ubicar al archivo calibracion.py\n",
    "sys.path.append(\"/home/estufab4/Desktop/flujo de bagazo/codigo/calibracion/\")\n",
    "from calibracion import graficar\n",
    "from medicion import *\n",
    "import matplotlib.pyplot as plt\n",
    "import numpy as np\n",
    "class volumen(imagen):######################## volumen en cm3\n",
    "    def __init__(self,path_configuracion,nombre_configuracion):\n",
    "      \n",
    "        imagen.__init__(self,path_configuracion,nombre_configuracion,pendientes2=True)\n",
    "        self.beta=np.array([ 0.12616642,  0.06137007, -0.00176466])# coeficientes de la calibración de area por optimización\n",
    "        self.maxZ=25000\n",
    "        self.minZ=3000\n",
    "    def modeloArea(self,imgz):\n",
    "        area=self.beta[0]*imgz**2+self.beta[1]*imgz+self.beta[2]\n",
    "        return area\n",
    " \n",
    "    def preprocesar_imgs(self,img_rgb,img_depth,f_segmentador,negro=True):\n",
    "#         buffer=img_depth.copy()\n",
    "        #quitar distorsion z\n",
    "        img_depth=self.recuperar(img_depth)\n",
    "        img_depth=self.distorsion_z2(img_depth,filtrar=False)\n",
    "#         graficar([img_depth,buffer])\n",
    "        #quitar distorsion uv\n",
    "        img_rgb,img_depth=self.distorsion(img_rgb,img_depth)\n",
    "        # cambiar de dominio rgb a depth\n",
    "        img2_depth=self.rgb2_depth(img_rgb)\n",
    "        # encontrar mascara\n",
    "    \n",
    "        mascara,_=f_segmentador(img2_depth)\n",
    "        return img_depth,mascara\n",
    "    def calcular_volumen(self,img,mascara,img_ref):\n",
    "      \n",
    "        img_z=img.reshape(-1)\n",
    "        mascara=mascara.reshape(-1)\n",
    "        img_ref=img_ref.reshape(-1)\n",
    "        # necesario para compatibilidad de dimensiones\n",
    "        # extraer los pixeles del objetivo\n",
    "        index=np.where(mascara==1)\n",
    "        img_z=img_z[index]\n",
    "        img_ref=img_ref[index]\n",
    "        \n",
    "        \n",
    "#         graficar([img_z,img_ref],1,2,[\"img x mascara\",\"ref\"])\n",
    "        znorm=self.normalizarz(img_z)\n",
    "        img_area=self.modeloArea(znorm)\n",
    "        print(img_area.sum(),\"AREA TOTAL\")\n",
    "        \n",
    "        img_altura=img_ref-img_z\n",
    "        img_altura=img_altura/100 # pasar a cm\n",
    "        print(img_altura.mean(),\"ALTURA MEDIA\")\n",
    "        img_volumen=img_area*img_altura\n",
    "        volumen=np.sum(img_volumen)\n",
    "        print(volumen, \"Volumen estimado\")\n",
    "        return volumen\n",
    "    def calcular_error(self,valor_real,valor_medido):\n",
    "        e=100*(valor_real-valor_medido)/valor_real\n",
    "        return e\n",
    "    def mejorar_referencia(self,img_ref):\n",
    "\n",
    "#         img_ref[img_ref==0]=img_ref.mean()\n",
    "        img_ref=self.distorsion_z(img_ref,1)\n",
    "\n",
    "        return img_ref\n",
    "    def abrir_img_ref(self,path):\n",
    "        names = glob.glob(\"{}depth_*.png\".format(path))\n",
    "        ret=True if len(names)>0 else False\n",
    "        imgRef=0\n",
    "        for name in names:\n",
    "            img=cv2.imread(name,cv2.IMREAD_UNCHANGED)[:,:,0]\n",
    "            img=self.recuperar(img)\n",
    "            img=self.distorsion_z2(img,filtrar=False)\n",
    "            imgRef+=img\n",
    "        imgRef/=len(names)\n",
    "        return ret,imgRef\n",
    "    def normalizarz(self, z):\n",
    "        z=(z-self.minZ)/(self.maxZ-self.minZ)\n",
    "        return z"
   ]
  },
  {
   "cell_type": "code",
   "execution_count": null,
   "metadata": {},
   "outputs": [],
   "source": [
    "from tabulate import tabulate\n",
    "from skimage import morphology\n",
    "import cv2\n",
    "import os\n",
    "import sys# las sisguientes dos lineas ayudan a ubicar al archivo calibracion.py\n",
    "sys.path.append(\"/home/estufab4/Desktop/flujo de bagazo/codigo/calibracion\")\n",
    "from calibracion import *\n",
    "\n",
    "\n",
    "def medir(path_config,list_config,path_img,valor_real,titulo=\"Error\"):\n",
    "    nxpaso=4\n",
    "    list_titulos=[\"error porcentual\"]\n",
    "    list_tablas=[]\n",
    "    ejex=[]\n",
    "    ejey=[]\n",
    "    for config in list_config:\n",
    "        print(config)\n",
    "        a=volumen(path_config,config)\n",
    "     \n",
    "            # abrir el par de imagenes\n",
    "        list_medidas=[]\n",
    "        list_error=[]\n",
    "        list_media=[]\n",
    "        ret,imgRef=a.abrir_img_ref(\"{}fondo/\".format(path_img))\n",
    "        print(imgRef.dtype)\n",
    "        plt.imshow(imgRef)\n",
    "        plt.show()\n",
    "#         graficar([imgRef],1,\n",
    "        \n",
    "        for i in range(1,1000):\n",
    "            \n",
    "            ret,img_rgb,img_depth=a.abrir_par_img(path=path_img,\n",
    "                                            indicador_rgb=\"gray\",\n",
    "                                            indicador_depth=\"depth\",\n",
    "                                            nombre=i\n",
    "                                           )\n",
    "            if ret:\n",
    "                depth=img_depth.copy()\n",
    "                \n",
    "                \n",
    "       \n",
    "                    \n",
    "                #segmentar\n",
    "                img_depth,mascara=a.preprocesar_imgs(img_rgb,img_depth,segmetador)\n",
    "                #calcular\n",
    "                print(img_depth.dtype,mascara.dtype)\n",
    "                mod2=cv2.addWeighted(img_depth, 0.5, 3000*mascara.astype(np.float64), 0.5, 0)\n",
    "                \n",
    "                graficar([depth,img_depth,mod2],1,3)\n",
    "                print(\"valor medio profundidad mm: \",img_depth.mean()/10)\n",
    "                valor_calculado=a.calcular_volumen(img_depth,mascara,imgRef)\n",
    "                \n",
    "                error=a.calcular_error(valor_real,valor_calculado)\n",
    "                print(\"error\",error)\n",
    "                list_medidas.append(valor_calculado)\n",
    "                list_error.append(error)\n",
    "                list_media.append(imgRef.max())\n",
    "                print(\"valor medio profundidad mm: \",img_depth.mean()/10)\n",
    "    #             print(\"valor real mm²: {}\".format(valor_real))\n",
    "    #             print(\"area calculada mm²:{}\".format(area_calculada))\n",
    "    #             print(\"porcentaje de error:{}\".format(error))\n",
    "\n",
    "    #     print(valor_real)\n",
    "        tabla=zip(list_medidas,list_error,list_media)\n",
    "        ejex.append(list_media)\n",
    "        ejey.append(np.absolute(list_error))\n",
    "        list_titulos.append(config)\n",
    "#         print(\"valor real:{}\".format(valor_real))\n",
    "#         print(tabulate(tabla,headers=[\"v calculado\",\"error\",\"distancia media\"]))\n",
    "        print(\" Error absoluto medio: \", np.absolute(np.array(list_error)).mean())\n",
    "#     plot([list_media],[np.absolute(list_error)],1,1,[titulo],[[\"Profundidad\",\"Error absoluto %\"]],tipo=1)\n",
    "    plt.hist(list_error) \n",
    "    return list_error,list_media\n",
    "    \n",
    "def segmetador(img):\n",
    "    n=200\n",
    "    kernel = np.ones((n,n),np.uint8)\n",
    "    img_gray=cv2.cvtColor(img.copy(), cv2.COLOR_RGB2BGR)\n",
    "    \n",
    "    img_gray=cv2.cvtColor(img.copy(), cv2.COLOR_RGB2GRAY)\n",
    "    #img_= cv2.medianBlur(img_gray,15)\n",
    "\n",
    "    criterio= cv2.THRESH_BINARY+cv2.THRESH_OTSU\n",
    "#     img_gray = cv2.morphologyEx(img_gray, cv2.MORPH_BLACKHAT, kernel)#MORPH_BLACKHAT\n",
    "#     graficar([img_gray],1,1)\n",
    "    thr,_ =cv2.threshold(img_gray,0,1,criterio)\n",
    "#     thr,_ =cv2.threshold(img_gray[img_gray<=thr],0,1,criterio)\n",
    "#     thr,_ =cv2.threshold(img_gray[img_gray<=thr],0,1,criterio)\n",
    "\n",
    "    mascara=img_gray.copy()\n",
    "\n",
    "    mascara[mascara<=thr]=1\n",
    "    mascara[mascara!=1]=0\n",
    "    mascara=mascara.astype(dtype=bool)\n",
    "#     mascara.dtype=bool## remove_small solo funciona con variables binarias\n",
    "    mascara=morphology.remove_small_objects(mascara,500,connectivity=50)\n",
    "    mascara.dtype=np.uint8\n",
    "    img_mascara=cv2.bitwise_and(img,img,mask=mascara)\n",
    "    mod=img_gray.copy()\n",
    "    mod[mod>thr]=0\n",
    "    graficar([mod,img_mascara,img],1,3)\n",
    "    return mascara,img_mascara\n",
    "\n",
    "\n",
    "# abrir img\n",
    "img=cv2.imread(\"/home/estufab4/Desktop/flujo de bagazo/codigo/img_medicion/volumen/prueba/volumen1/gray_143.png\")\n",
    "mascara,img_mascara=segmetador(img)\n",
    "# print(\"humbral: {}\".format(thr))\n",
    "\n",
    "graficar([img,mascara,img_mascara],1,3,[\"original\",\"mascara\",\"original X mascara\"])"
   ]
  },
  {
   "cell_type": "code",
   "execution_count": null,
   "metadata": {},
   "outputs": [],
   "source": [
    "# medición de cubo\n",
    "%matplotlib inline\n",
    "\n",
    "path_img=\"/home/estufab4/Desktop/flujo de bagazo/codigo/img_medicion/volumen/volumen1/\"\n",
    "path_config=\"/home/estufab4/Desktop/flujo de bagazo/codigo/calibracion/configuraciónPrueba/\"\n",
    "# \"/home/estufab4/Desktop/flujo de bagazo/codigo/calibracion/configuracion_union_150/\"\n",
    "list_config=[\"distorsionz\"]\n",
    "valor_real=8*10*21.5*6\n",
    "volumen1,list_media_cubo1=medir(path_config,list_config,path_img,valor_real,titulo=\"cubo\")\n",
    "v1=np.array(volumen1).mean()\n",
    "z1=np.array(list_media_cubo1).mean()\n",
    "\n"
   ]
  },
  {
   "cell_type": "code",
   "execution_count": null,
   "metadata": {},
   "outputs": [],
   "source": [
    "# medición de cubo\n",
    "%matplotlib inline\n",
    "\n",
    "path_img=\"/home/estufab4/Desktop/flujo de bagazo/codigo/img_medicion/volumen/volumen2/\"\n",
    "path_config=\"/home/estufab4/Desktop/flujo de bagazo/codigo/calibracion/configuraciónPrueba/\"\n",
    "# \"/home/estufab4/Desktop/flujo de bagazo/codigo/calibracion/configuracion_union_150/\"\n",
    "list_config=[\"distorsionz\"]\n",
    "valor_real=8*10*21.5*6\n",
    "volumen2,list_media_cubo2=medir(path_config,list_config,path_img,valor_real,titulo=\"cubo\")\n",
    "v2=np.array(volumen2).mean()\n",
    "z2=np.array(list_media_cubo2).mean()\n"
   ]
  },
  {
   "cell_type": "code",
   "execution_count": null,
   "metadata": {},
   "outputs": [],
   "source": [
    "# medición de cubo\n",
    "%matplotlib inline\n",
    "\n",
    "path_img=\"/home/estufab4/Desktop/flujo de bagazo/codigo/img_medicion/volumen/volumen3/\"\n",
    "path_config=\"/home/estufab4/Desktop/flujo de bagazo/codigo/calibracion/configuraciónPrueba/\"\n",
    "# \"/home/estufab4/Desktop/flujo de bagazo/codigo/calibracion/configuracion_union_150/\"\n",
    "list_config=[\"distorsionz\"]\n",
    "valor_real=8*10*21.5*6\n",
    "volumen3,list_media_cubo3=medir(path_config,list_config,path_img,valor_real,titulo=\"cubo\")\n",
    "v3=np.array(volumen3).mean()\n",
    "z3=np.array(list_media_cubo3).mean()\n"
   ]
  },
  {
   "cell_type": "code",
   "execution_count": null,
   "metadata": {},
   "outputs": [],
   "source": [
    "10*21.5*7"
   ]
  },
  {
   "cell_type": "code",
   "execution_count": null,
   "metadata": {},
   "outputs": [],
   "source": [
    "# medición de cubo\n",
    "%matplotlib inline\n",
    "\n",
    "path_img=\"/home/estufab4/Desktop/flujo de bagazo/codigo/img_medicion/volumen/volumen4/\"\n",
    "path_config=\"/home/estufab4/Desktop/flujo de bagazo/codigo/calibracion/configuraciónPrueba/\"\n",
    "# \"/home/estufab4/Desktop/flujo de bagazo/codigo/calibracion/configuracion_union_150/\"\n",
    "list_config=[\"distorsionz\"]\n",
    "valor_real=8*10*21.5*7\n",
    "volumen4,list_media_cubo4=medir(path_config,list_config,path_img,valor_real,titulo=\"cubo\")\n",
    "v4=np.array(volumen4).mean()\n",
    "z4=np.array(list_media_cubo4).mean()\n"
   ]
  },
  {
   "cell_type": "code",
   "execution_count": null,
   "metadata": {},
   "outputs": [],
   "source": [
    "# medición de cubo\n",
    "%matplotlib inline\n",
    "\n",
    "path_img=\"/home/estufab4/Desktop/flujo de bagazo/codigo/img_medicion/volumen/volumen5/\"\n",
    "path_config=\"/home/estufab4/Desktop/flujo de bagazo/codigo/calibracion/configuraciónPrueba/\"\n",
    "# \"/home/estufab4/Desktop/flujo de bagazo/codigo/calibracion/configuracion_union_150/\"\n",
    "list_config=[\"distorsionz\"]\n",
    "valor_real=8*10*21.5*7\n",
    "volumen5,list_media_cubo5=medir(path_config,list_config,path_img,valor_real,titulo=\"cubo\")\n",
    "v5=np.array(volumen5).mean()\n",
    "z5=np.array(list_media_cubo5).mean()\n"
   ]
  },
  {
   "cell_type": "code",
   "execution_count": null,
   "metadata": {},
   "outputs": [],
   "source": [
    "# medición de cubo\n",
    "%matplotlib inline\n",
    "\n",
    "path_img=\"/home/estufab4/Desktop/flujo de bagazo/codigo/img_medicion/volumen/volumen6/\"\n",
    "path_config=\"/home/estufab4/Desktop/flujo de bagazo/codigo/calibracion/configuraciónPrueba/\"\n",
    "# \"/home/estufab4/Desktop/flujo de bagazo/codigo/calibracion/configuracion_union_150/\"\n",
    "list_config=[\"distorsionz\"]\n",
    "valor_real=8*10*21.5*7\n",
    "volumen6,list_media_cubo6=medir(path_config,list_config,path_img,valor_real,titulo=\"cubo\")\n",
    "v6=np.array(volumen6).mean()\n",
    "z6=np.array(list_media_cubo6).mean()\n"
   ]
  },
  {
   "cell_type": "code",
   "execution_count": null,
   "metadata": {},
   "outputs": [],
   "source": [
    "# medición de cubo\n",
    "%matplotlib inline\n",
    "\n",
    "path_img=\"/home/estufab4/Desktop/flujo de bagazo/codigo/img_medicion/volumen/volumen7/\"\n",
    "path_config=\"/home/estufab4/Desktop/flujo de bagazo/codigo/calibracion/configuraciónPrueba/\"\n",
    "# \"/home/estufab4/Desktop/flujo de bagazo/codigo/calibracion/configuracion_union_150/\"\n",
    "list_config=[\"distorsionz\"]\n",
    "valor_real=8*10*21.5*7\n",
    "volumen7,list_media_cubo7=medir(path_config,list_config,path_img,valor_real,titulo=\"cubo\")\n",
    "v7=np.array(volumen7).mean()\n",
    "z7=np.array(list_media_cubo7).mean()\n"
   ]
  },
  {
   "cell_type": "code",
   "execution_count": null,
   "metadata": {},
   "outputs": [],
   "source": [
    "# medición de cubo\n",
    "%matplotlib inline\n",
    "\n",
    "path_img=\"/home/estufab4/Desktop/flujo de bagazo/codigo/img_medicion/volumen/volumen8/\"\n",
    "path_config=\"/home/estufab4/Desktop/flujo de bagazo/codigo/calibracion/configuraciónPrueba/\"\n",
    "# \"/home/estufab4/Desktop/flujo de bagazo/codigo/calibracion/configuracion_union_150/\"\n",
    "list_config=[\"distorsionz\"]\n",
    "valor_real=8*10*21.5*7\n",
    "volumen8,list_media_cubo8=medir(path_config,list_config,path_img,valor_real,titulo=\"cubo\")\n",
    "v8=np.array(volumen8).mean()\n",
    "z8=np.array(list_media_cubo8).mean()\n"
   ]
  },
  {
   "cell_type": "code",
   "execution_count": null,
   "metadata": {},
   "outputs": [],
   "source": [
    "# medición de cubo\n",
    "%matplotlib inline\n",
    "\n",
    "path_img=\"/home/estufab4/Desktop/flujo de bagazo/codigo/img_medicion/volumen/volumen9/\"\n",
    "path_config=\"/home/estufab4/Desktop/flujo de bagazo/codigo/calibracion/configuraciónPrueba/\"\n",
    "# \"/home/estufab4/Desktop/flujo de bagazo/codigo/calibracion/configuracion_union_150/\"\n",
    "list_config=[\"distorsionz\"]\n",
    "valor_real=8*10*21.5*7\n",
    "volumen9,list_media_cubo9=medir(path_config,list_config,path_img,valor_real,titulo=\"cubo\")\n",
    "v9=np.array(volumen9).mean()\n",
    "z9=np.array(list_media_cubo9).mean()\n"
   ]
  },
  {
   "cell_type": "code",
   "execution_count": null,
   "metadata": {},
   "outputs": [],
   "source": [
    "# medición de cubo\n",
    "%matplotlib inline\n",
    "\n",
    "path_img=\"/home/estufab4/Desktop/flujo de bagazo/codigo/img_medicion/volumen/volumen10/\"\n",
    "path_config=\"/home/estufab4/Desktop/flujo de bagazo/codigo/calibracion/configuraciónPrueba/\"\n",
    "# \"/home/estufab4/Desktop/flujo de bagazo/codigo/calibracion/configuracion_union_150/\"\n",
    "list_config=[\"distorsionz\"]\n",
    "valor_real=8*10*21.5*7\n",
    "volumen10,list_media_cubo10=medir(path_config,list_config,path_img,valor_real,titulo=\"cubo\")\n",
    "v10=np.array(volumen10).mean()\n",
    "z10=np.array(list_media_cubo10).mean()\n"
   ]
  },
  {
   "cell_type": "code",
   "execution_count": null,
   "metadata": {},
   "outputs": [],
   "source": [
    "# medición de cubo\n",
    "%matplotlib inline\n",
    "\n",
    "path_img=\"/home/estufab4/Desktop/flujo de bagazo/codigo/img_medicion/volumen/volumen11/\"\n",
    "path_config=\"/home/estufab4/Desktop/flujo de bagazo/codigo/calibracion/configuraciónPrueba/\"\n",
    "# \"/home/estufab4/Desktop/flujo de bagazo/codigo/calibracion/configuracion_union_150/\"\n",
    "list_config=[\"distorsionz\"]\n",
    "valor_real=8*10*21.5*7\n",
    "volumen11,list_media_cubo11=medir(path_config,list_config,path_img,valor_real,titulo=\"cubo\")\n",
    "v11=np.array(volumen11).mean()\n",
    "z11=np.array(list_media_cubo11).mean()\n"
   ]
  },
  {
   "cell_type": "code",
   "execution_count": null,
   "metadata": {},
   "outputs": [],
   "source": [
    "# medición de cubo\n",
    "%matplotlib inline\n",
    "\n",
    "path_img=\"/home/estufab4/Desktop/flujo de bagazo/codigo/img_medicion/volumen/volumen12/\"\n",
    "path_config=\"/home/estufab4/Desktop/flujo de bagazo/codigo/calibracion/configuraciónPrueba/\"\n",
    "# \"/home/estufab4/Desktop/flujo de bagazo/codigo/calibracion/configuracion_union_150/\"\n",
    "list_config=[\"distorsionz\"]\n",
    "valor_real=8*10*21.5*7\n",
    "volumen12,list_media_cubo12=medir(path_config,list_config,path_img,valor_real,titulo=\"cubo\")\n",
    "v12=np.array(volumen12).mean()\n",
    "z12=np.array(list_media_cubo12).mean()\n"
   ]
  },
  {
   "cell_type": "code",
   "execution_count": null,
   "metadata": {},
   "outputs": [],
   "source": [
    "# medición de cubo\n",
    "%matplotlib inline\n",
    "\n",
    "path_img=\"/home/estufab4/Desktop/flujo de bagazo/codigo/img_medicion/volumen/volumen13/\"\n",
    "path_config=\"/home/estufab4/Desktop/flujo de bagazo/codigo/calibracion/configuraciónPrueba/\"\n",
    "# \"/home/estufab4/Desktop/flujo de bagazo/codigo/calibracion/configuracion_union_150/\"\n",
    "list_config=[\"distorsionz\"]\n",
    "valor_real=8*10*21.5*7\n",
    "volumen13,list_media_cubo13=medir(path_config,list_config,path_img,valor_real,titulo=\"cubo\")\n",
    "v13=np.array(volumen13).mean()\n",
    "z13=np.array(list_media_cubo13).mean()\n"
   ]
  },
  {
   "cell_type": "code",
   "execution_count": null,
   "metadata": {},
   "outputs": [],
   "source": [
    "# medición de cubo\n",
    "%matplotlib inline\n",
    "\n",
    "path_img=\"/home/estufab4/Desktop/flujo de bagazo/codigo/img_medicion/volumen/volumen14/\"\n",
    "path_config=\"/home/estufab4/Desktop/flujo de bagazo/codigo/calibracion/configuraciónPrueba/\"\n",
    "# \"/home/estufab4/Desktop/flujo de bagazo/codigo/calibracion/configuracion_union_150/\"\n",
    "list_config=[\"distorsionz\"]\n",
    "valor_real=8*10*21.5*7\n",
    "volumen14,list_media_cubo14=medir(path_config,list_config,path_img,valor_real,titulo=\"cubo\")\n",
    "v14=np.array(volumen14).mean()\n",
    "z14=np.array(list_media_cubo14).mean()\n"
   ]
  },
  {
   "cell_type": "code",
   "execution_count": null,
   "metadata": {},
   "outputs": [],
   "source": [
    "# medición de cubo\n",
    "%matplotlib inline\n",
    "\n",
    "path_img=\"/home/estufab4/Desktop/flujo de bagazo/codigo/img_medicion/volumen/volumen15/\"\n",
    "path_config=\"/home/estufab4/Desktop/flujo de bagazo/codigo/calibracion/configuraciónPrueba/\"\n",
    "# \"/home/estufab4/Desktop/flujo de bagazo/codigo/calibracion/configuracion_union_150/\"\n",
    "list_config=[\"distorsionz\"]\n",
    "valor_real=8*10*21.5*7\n",
    "volumen15,list_media_cubo15=medir(path_config,list_config,path_img,valor_real,titulo=\"cubo\")\n",
    "v15=np.array(volumen15).mean()\n",
    "z15=np.array(list_media_cubo15).mean()\n"
   ]
  },
  {
   "cell_type": "code",
   "execution_count": null,
   "metadata": {},
   "outputs": [],
   "source": [
    "lista=np.concatenate([volumen6,volumen7,volumen8,volumen9,volumen10,volumen11])\n",
    "plt.hist(lista)\n",
    "print(lista.mean())"
   ]
  },
  {
   "cell_type": "code",
   "execution_count": null,
   "metadata": {},
   "outputs": [],
   "source": [
    "error=[v1,v2,v3,v4,v5,v6,v7,v8,v9,v10,v11,v12,v13,v14,v15]\n",
    "profundidad=[z1,z2,z3,z4,z5,z6,z7,z8,z9,z10,z11,z12,z13,z14,z15]\n",
    "plt.plot(profundidad,error)"
   ]
  },
  {
   "cell_type": "code",
   "execution_count": null,
   "metadata": {},
   "outputs": [],
   "source": [
    "error=[v5,v6,v7,v8,v9,v10,v11,v12]\n",
    "profundidad=[z5,z6,z7,z8,z9,z10,z11,z12]\n",
    "plt.plot(profundidad,error)"
   ]
  },
  {
   "cell_type": "code",
   "execution_count": null,
   "metadata": {},
   "outputs": [],
   "source": [
    "error=np.array(error)+16\n",
    "plt.plot(profundidad,error)"
   ]
  },
  {
   "cell_type": "code",
   "execution_count": null,
   "metadata": {},
   "outputs": [],
   "source": [
    "profundidad"
   ]
  },
  {
   "cell_type": "markdown",
   "metadata": {},
   "source": [
    "# medición de un solo objetivo"
   ]
  },
  {
   "cell_type": "code",
   "execution_count": null,
   "metadata": {},
   "outputs": [],
   "source": [
    "# medición de cubo\n",
    "%matplotlib inline\n",
    "\n",
    "path_img=\"/home/estufab4/Desktop/flujo de bagazo/codigo/img_medicion/volumen/prueba/volumen1/\"\n",
    "path_config=\"/home/estufab4/Desktop/flujo de bagazo/codigo/calibracion/configuraciónPrueba/\"\n",
    "# \"/home/estufab4/Desktop/flujo de bagazo/codigo/calibracion/configuracion_union_150/\"\n",
    "list_config=[\"distorsionz\"]\n",
    "valor_real=20*20*20\n",
    "volumen1,list_media_cubo1=medir(path_config,list_config,path_img,valor_real,titulo=\"cubo\")\n",
    "v1=np.array(volumen1).mean()\n",
    "z1=np.array(list_media_cubo1).mean()\n"
   ]
  },
  {
   "cell_type": "code",
   "execution_count": null,
   "metadata": {},
   "outputs": [],
   "source": [
    "(400-545.4203229231593)/400"
   ]
  },
  {
   "cell_type": "code",
   "execution_count": null,
   "metadata": {},
   "outputs": [],
   "source": [
    "(20-17)/20"
   ]
  },
  {
   "cell_type": "code",
   "execution_count": null,
   "metadata": {},
   "outputs": [],
   "source": [
    "# medición de cubo\n",
    "%matplotlib inline\n",
    "\n",
    "path_img=\"/home/estufab4/Desktop/flujo de bagazo/codigo/img_medicion/volumen/cajas/\"\n",
    "path_config=\"/home/estufab4/Desktop/flujo de bagazo/codigo/calibracion/configuraciónPrueba/\"\n",
    "# \"/home/estufab4/Desktop/flujo de bagazo/codigo/calibracion/configuracion_union_150/\"\n",
    "list_config=[\"distorsionz\"]\n",
    "valor_real=45.5*55.5*36\n",
    "volumen1,list_media_cubo1=medir(path_config,list_config,path_img,valor_real,titulo=\"cubo\")\n",
    "v1=np.array(volumen1).mean()\n",
    "z1=np.array(list_media_cubo1).mean()\n"
   ]
  },
  {
   "cell_type": "code",
   "execution_count": null,
   "metadata": {},
   "outputs": [],
   "source": [
    "(45.5*55.5-2517)/45.5*55.5"
   ]
  },
  {
   "cell_type": "code",
   "execution_count": null,
   "metadata": {},
   "outputs": [],
   "source": [
    "# medición de cubo\n",
    "%matplotlib inline\n",
    "\n",
    "path_img=\"/home/estufab4/Desktop/flujo de bagazo/codigo/img_medicion/volumen/cajas1/\"\n",
    "path_config=\"/home/estufab4/Desktop/flujo de bagazo/codigo/calibracion/configuraciónPrueba/\"\n",
    "# \"/home/estufab4/Desktop/flujo de bagazo/codigo/calibracion/configuracion_union_150/\"\n",
    "list_config=[\"distorsionz\"]\n",
    "valor_real=66*30*30.5\n",
    "volumen1,list_media_cubo1=medir(path_config,list_config,path_img,valor_real,titulo=\"cubo\")\n",
    "v1=np.array(volumen1).mean()\n",
    "z1=np.array(list_media_cubo1).mean()\n"
   ]
  },
  {
   "cell_type": "code",
   "execution_count": null,
   "metadata": {},
   "outputs": [],
   "source": [
    "66*30"
   ]
  },
  {
   "cell_type": "code",
   "execution_count": null,
   "metadata": {},
   "outputs": [],
   "source": [
    "(30.5-29.89)/30.5"
   ]
  },
  {
   "cell_type": "code",
   "execution_count": null,
   "metadata": {},
   "outputs": [],
   "source": [
    "# medición de cubo\n",
    "%matplotlib inline\n",
    "\n",
    "path_img=\"/home/estufab4/Desktop/flujo de bagazo/codigo/img_medicion/volumen/cajas2/\"\n",
    "path_config=\"/home/estufab4/Desktop/flujo de bagazo/codigo/calibracion/configuraciónPrueba/\"\n",
    "# \"/home/estufab4/Desktop/flujo de bagazo/codigo/calibracion/configuracion_union_150/\"\n",
    "list_config=[\"distorsionz\"]\n",
    "valor_real=66*30*30.5+45.5*55.5*36\n",
    "volumen1,list_media_cubo1=medir(path_config,list_config,path_img,valor_real,titulo=\"cubo\")\n",
    "v1=np.array(volumen1).mean()\n",
    "z1=np.array(list_media_cubo1).mean()"
   ]
  },
  {
   "cell_type": "code",
   "execution_count": null,
   "metadata": {},
   "outputs": [],
   "source": []
  }
 ],
 "metadata": {
  "kernelspec": {
   "display_name": "Python 3.9.7 ('base')",
   "language": "python",
   "name": "python3"
  },
  "language_info": {
   "codemirror_mode": {
    "name": "ipython",
    "version": 3
   },
   "file_extension": ".py",
   "mimetype": "text/x-python",
   "name": "python",
   "nbconvert_exporter": "python",
   "pygments_lexer": "ipython3",
   "version": "3.9.7"
  },
  "vscode": {
   "interpreter": {
    "hash": "3c25e185183312141286a352e3e4d38d8c26e9d34360093b8c9178a570d74532"
   }
  }
 },
 "nbformat": 4,
 "nbformat_minor": 2
}
